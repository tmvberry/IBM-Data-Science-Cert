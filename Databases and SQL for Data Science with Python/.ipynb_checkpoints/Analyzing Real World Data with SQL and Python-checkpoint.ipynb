{
 "cells": [
  {
   "cell_type": "markdown",
   "metadata": {},
   "source": [
    "<p style=\"text-align:center\">\n",
    "    <a href=\"https://skills.network/?utm_medium=Exinfluencer&utm_source=Exinfluencer&utm_content=000026UJ&utm_term=10006555&utm_id=NA-SkillsNetwork-Channel-SkillsNetworkCoursesIBMDeveloperSkillsNetworkDB0201ENSkillsNetwork22-2022-01-01\" target=\"_blank\">\n",
    "    <img src=\"https://cf-courses-data.s3.us.cloud-object-storage.appdomain.cloud/assets/logos/SN_web_lightmode.png\" width=\"200\" alt=\"Skills Network Logo\"  />\n",
    "    </a>\n",
    "</p>\n",
    "\n",
    "# Analyzing a real world data-set with SQL and Python\n",
    "\n",
    "Estimated time needed: **15** minutes\n",
    "\n",
    "## Objectives\n",
    "\n",
    "After completing this lab you will be able to:\n",
    "\n",
    "*   Understand a dataset of selected socioeconomic indicators in Chicago\n",
    "*   Learn how to store data in an SQLite database.\n",
    "*   Solve example problems to practice your SQL skills\n"
   ]
  },
  {
   "cell_type": "markdown",
   "metadata": {},
   "source": [
    "## Selected Socioeconomic Indicators in Chicago\n",
    "\n",
    "The city of Chicago released a dataset of socioeconomic data to the Chicago City Portal.\n",
    "This dataset contains a selection of six socioeconomic indicators of public health significance and a “hardship index,” for each Chicago community area, for the years 2008 – 2012.\n",
    "\n",
    "Scores on the hardship index can range from 1 to 100, with a higher index number representing a greater level of hardship.\n",
    "\n",
    "A detailed description of the dataset can be found on [the city of Chicago's website](https://data.cityofchicago.org/Health-Human-Services/Census-Data-Selected-socioeconomic-indicators-in-C/kn9c-c2s2?utm_medium=Exinfluencer&utm_source=Exinfluencer&utm_content=000026UJ&utm_term=10006555&utm_id=NA-SkillsNetwork-Channel-SkillsNetworkCoursesIBMDeveloperSkillsNetworkDB0201ENSkillsNetwork20127838-2021-01-01), but to summarize, the dataset has the following variables:\n",
    "\n",
    "*   **Community Area Number** (`ca`): Used to uniquely identify each row of the dataset\n",
    "\n",
    "*   **Community Area Name** (`community_area_name`): The name of the region in the city of Chicago\n",
    "\n",
    "*   **Percent of Housing Crowded** (`percent_of_housing_crowded`): Percent of occupied housing units with more than one person per room\n",
    "\n",
    "*   **Percent Households Below Poverty** (`percent_households_below_poverty`): Percent of households living below the federal poverty line\n",
    "\n",
    "*   **Percent Aged 16+ Unemployed** (`percent_aged_16_unemployed`): Percent of persons over the age of 16 years that are unemployed\n",
    "\n",
    "*   **Percent Aged 25+ without High School Diploma** (`percent_aged_25_without_high_school_diploma`): Percent of persons over the age of 25 years without a high school education\n",
    "\n",
    "*   **Percent Aged Under** 18 or Over 64:Percent of population under 18 or over 64 years of age (`percent_aged_under_18_or_over_64`): (ie. dependents)\n",
    "\n",
    "*   **Per Capita Income** (`per_capita_income_`): Community Area per capita income is estimated as the sum of tract-level aggragate incomes divided by the total population\n",
    "\n",
    "*   **Hardship Index** (`hardship_index`): Score that incorporates each of the six selected socioeconomic indicators\n",
    "\n",
    "In this Lab, we'll take a look at the variables in the socioeconomic indicators dataset and do some basic analysis with Python.\n"
   ]
  },
  {
   "cell_type": "markdown",
   "metadata": {},
   "source": [
    "### Connect to the database\n",
    "\n",
    "Let us first load the SQL extension and establish a connection with the database\n",
    "\n",
    "##### The syntax for connecting to magic sql using sqllite is\n",
    "\n",
    "  **%sql sqlite://DatabaseName**   \n",
    "  \n",
    "where DatabaseName will be your **.db** file \n"
   ]
  },
  {
   "cell_type": "code",
   "execution_count": 7,
   "metadata": {},
   "outputs": [
    {
     "name": "stdout",
     "output_type": "stream",
     "text": [
      "The sql extension is already loaded. To reload it, use:\n",
      "  %reload_ext sql\n"
     ]
    }
   ],
   "source": [
    "%load_ext sql \n",
    "\n",
    "#loading the sql extension"
   ]
  },
  {
   "cell_type": "code",
   "execution_count": 8,
   "metadata": {},
   "outputs": [
    {
     "name": "stdout",
     "output_type": "stream",
     "text": [
      "\r\n",
      "\u001b[1m[\u001b[0m\u001b[34;49mnotice\u001b[0m\u001b[1;39;49m]\u001b[0m\u001b[39;49m A new release of pip is available: \u001b[0m\u001b[31;49m23.2.1\u001b[0m\u001b[39;49m -> \u001b[0m\u001b[32;49m23.3\u001b[0m\r\n",
      "\u001b[1m[\u001b[0m\u001b[34;49mnotice\u001b[0m\u001b[1;39;49m]\u001b[0m\u001b[39;49m To update, run: \u001b[0m\u001b[32;49mpip install --upgrade pip\u001b[0m\r\n"
     ]
    }
   ],
   "source": [
    "import csv, sqlite3\n",
    "\n",
    "con = sqlite3.connect(\"socioeconomic.db\")\n",
    "cur = con.cursor()\n",
    "!pip install -q pandas==1.1.5"
   ]
  },
  {
   "cell_type": "code",
   "execution_count": 9,
   "metadata": {},
   "outputs": [],
   "source": [
    "%sql sqlite:///socioeconomic.db"
   ]
  },
  {
   "cell_type": "markdown",
   "metadata": {},
   "source": [
    "### Store the dataset in a Table\n",
    "\n",
    "##### In many cases the dataset to be analyzed is available as a .CSV (comma separated values) file, perhaps on the internet. To analyze the data using SQL, it first needs to be stored in the database.\n",
    "\n",
    "##### We will first read the csv files  from the given url  into pandas dataframes\n",
    "\n",
    "##### Next we will be using the  df.to_sql() function to convert each csv file  to a table in sqlite  with the csv data loaded in it.\n",
    "\n"
   ]
  },
  {
   "cell_type": "code",
   "execution_count": 42,
   "metadata": {},
   "outputs": [
    {
     "ename": "ModuleNotFoundError",
     "evalue": "No module named 'pandas.io.formats.string'",
     "output_type": "error",
     "traceback": [
      "\u001b[0;31m---------------------------------------------------------------------------\u001b[0m",
      "\u001b[0;31mModuleNotFoundError\u001b[0m                       Traceback (most recent call last)",
      "File \u001b[0;32m~/anaconda3/lib/python3.10/site-packages/IPython/core/formatters.py:706\u001b[0m, in \u001b[0;36mPlainTextFormatter.__call__\u001b[0;34m(self, obj)\u001b[0m\n\u001b[1;32m    699\u001b[0m stream \u001b[38;5;241m=\u001b[39m StringIO()\n\u001b[1;32m    700\u001b[0m printer \u001b[38;5;241m=\u001b[39m pretty\u001b[38;5;241m.\u001b[39mRepresentationPrinter(stream, \u001b[38;5;28mself\u001b[39m\u001b[38;5;241m.\u001b[39mverbose,\n\u001b[1;32m    701\u001b[0m     \u001b[38;5;28mself\u001b[39m\u001b[38;5;241m.\u001b[39mmax_width, \u001b[38;5;28mself\u001b[39m\u001b[38;5;241m.\u001b[39mnewline,\n\u001b[1;32m    702\u001b[0m     max_seq_length\u001b[38;5;241m=\u001b[39m\u001b[38;5;28mself\u001b[39m\u001b[38;5;241m.\u001b[39mmax_seq_length,\n\u001b[1;32m    703\u001b[0m     singleton_pprinters\u001b[38;5;241m=\u001b[39m\u001b[38;5;28mself\u001b[39m\u001b[38;5;241m.\u001b[39msingleton_printers,\n\u001b[1;32m    704\u001b[0m     type_pprinters\u001b[38;5;241m=\u001b[39m\u001b[38;5;28mself\u001b[39m\u001b[38;5;241m.\u001b[39mtype_printers,\n\u001b[1;32m    705\u001b[0m     deferred_pprinters\u001b[38;5;241m=\u001b[39m\u001b[38;5;28mself\u001b[39m\u001b[38;5;241m.\u001b[39mdeferred_printers)\n\u001b[0;32m--> 706\u001b[0m \u001b[43mprinter\u001b[49m\u001b[38;5;241;43m.\u001b[39;49m\u001b[43mpretty\u001b[49m\u001b[43m(\u001b[49m\u001b[43mobj\u001b[49m\u001b[43m)\u001b[49m\n\u001b[1;32m    707\u001b[0m printer\u001b[38;5;241m.\u001b[39mflush()\n\u001b[1;32m    708\u001b[0m \u001b[38;5;28;01mreturn\u001b[39;00m stream\u001b[38;5;241m.\u001b[39mgetvalue()\n",
      "File \u001b[0;32m~/anaconda3/lib/python3.10/site-packages/IPython/lib/pretty.py:410\u001b[0m, in \u001b[0;36mRepresentationPrinter.pretty\u001b[0;34m(self, obj)\u001b[0m\n\u001b[1;32m    407\u001b[0m                         \u001b[38;5;28;01mreturn\u001b[39;00m meth(obj, \u001b[38;5;28mself\u001b[39m, cycle)\n\u001b[1;32m    408\u001b[0m                 \u001b[38;5;28;01mif\u001b[39;00m \u001b[38;5;28mcls\u001b[39m \u001b[38;5;129;01mis\u001b[39;00m \u001b[38;5;129;01mnot\u001b[39;00m \u001b[38;5;28mobject\u001b[39m \\\n\u001b[1;32m    409\u001b[0m                         \u001b[38;5;129;01mand\u001b[39;00m callable(\u001b[38;5;28mcls\u001b[39m\u001b[38;5;241m.\u001b[39m\u001b[38;5;18m__dict__\u001b[39m\u001b[38;5;241m.\u001b[39mget(\u001b[38;5;124m'\u001b[39m\u001b[38;5;124m__repr__\u001b[39m\u001b[38;5;124m'\u001b[39m)):\n\u001b[0;32m--> 410\u001b[0m                     \u001b[38;5;28;01mreturn\u001b[39;00m \u001b[43m_repr_pprint\u001b[49m\u001b[43m(\u001b[49m\u001b[43mobj\u001b[49m\u001b[43m,\u001b[49m\u001b[43m \u001b[49m\u001b[38;5;28;43mself\u001b[39;49m\u001b[43m,\u001b[49m\u001b[43m \u001b[49m\u001b[43mcycle\u001b[49m\u001b[43m)\u001b[49m\n\u001b[1;32m    412\u001b[0m     \u001b[38;5;28;01mreturn\u001b[39;00m _default_pprint(obj, \u001b[38;5;28mself\u001b[39m, cycle)\n\u001b[1;32m    413\u001b[0m \u001b[38;5;28;01mfinally\u001b[39;00m:\n",
      "File \u001b[0;32m~/anaconda3/lib/python3.10/site-packages/IPython/lib/pretty.py:778\u001b[0m, in \u001b[0;36m_repr_pprint\u001b[0;34m(obj, p, cycle)\u001b[0m\n\u001b[1;32m    776\u001b[0m \u001b[38;5;124;03m\"\"\"A pprint that just redirects to the normal repr function.\"\"\"\u001b[39;00m\n\u001b[1;32m    777\u001b[0m \u001b[38;5;66;03m# Find newlines and replace them with p.break_()\u001b[39;00m\n\u001b[0;32m--> 778\u001b[0m output \u001b[38;5;241m=\u001b[39m \u001b[38;5;28;43mrepr\u001b[39;49m\u001b[43m(\u001b[49m\u001b[43mobj\u001b[49m\u001b[43m)\u001b[49m\n\u001b[1;32m    779\u001b[0m lines \u001b[38;5;241m=\u001b[39m output\u001b[38;5;241m.\u001b[39msplitlines()\n\u001b[1;32m    780\u001b[0m \u001b[38;5;28;01mwith\u001b[39;00m p\u001b[38;5;241m.\u001b[39mgroup():\n",
      "File \u001b[0;32m~/anaconda3/lib/python3.10/site-packages/pandas/core/frame.py:1064\u001b[0m, in \u001b[0;36m__repr__\u001b[0;34m(self)\u001b[0m\n\u001b[1;32m   1017\u001b[0m \u001b[38;5;28;01mdef\u001b[39;00m \u001b[38;5;21mitertuples\u001b[39m(\u001b[38;5;28mself\u001b[39m, index\u001b[38;5;241m=\u001b[39m\u001b[38;5;28;01mTrue\u001b[39;00m, name\u001b[38;5;241m=\u001b[39m\u001b[38;5;124m\"\u001b[39m\u001b[38;5;124mPandas\u001b[39m\u001b[38;5;124m\"\u001b[39m):\n\u001b[1;32m   1018\u001b[0m     \u001b[38;5;124;03m\"\"\"\u001b[39;00m\n\u001b[1;32m   1019\u001b[0m \u001b[38;5;124;03m    Iterate over DataFrame rows as namedtuples.\u001b[39;00m\n\u001b[1;32m   1020\u001b[0m \n\u001b[1;32m   1021\u001b[0m \u001b[38;5;124;03m    Parameters\u001b[39;00m\n\u001b[1;32m   1022\u001b[0m \u001b[38;5;124;03m    ----------\u001b[39;00m\n\u001b[1;32m   1023\u001b[0m \u001b[38;5;124;03m    index : bool, default True\u001b[39;00m\n\u001b[1;32m   1024\u001b[0m \u001b[38;5;124;03m        If True, return the index as the first element of the tuple.\u001b[39;00m\n\u001b[1;32m   1025\u001b[0m \u001b[38;5;124;03m    name : str or None, default \"Pandas\"\u001b[39;00m\n\u001b[1;32m   1026\u001b[0m \u001b[38;5;124;03m        The name of the returned namedtuples or None to return regular\u001b[39;00m\n\u001b[1;32m   1027\u001b[0m \u001b[38;5;124;03m        tuples.\u001b[39;00m\n\u001b[1;32m   1028\u001b[0m \n\u001b[1;32m   1029\u001b[0m \u001b[38;5;124;03m    Returns\u001b[39;00m\n\u001b[1;32m   1030\u001b[0m \u001b[38;5;124;03m    -------\u001b[39;00m\n\u001b[1;32m   1031\u001b[0m \u001b[38;5;124;03m    iterator\u001b[39;00m\n\u001b[1;32m   1032\u001b[0m \u001b[38;5;124;03m        An object to iterate over namedtuples for each row in the\u001b[39;00m\n\u001b[1;32m   1033\u001b[0m \u001b[38;5;124;03m        DataFrame with the first field possibly being the index and\u001b[39;00m\n\u001b[1;32m   1034\u001b[0m \u001b[38;5;124;03m        following fields being the column values.\u001b[39;00m\n\u001b[1;32m   1035\u001b[0m \n\u001b[1;32m   1036\u001b[0m \u001b[38;5;124;03m    See Also\u001b[39;00m\n\u001b[1;32m   1037\u001b[0m \u001b[38;5;124;03m    --------\u001b[39;00m\n\u001b[1;32m   1038\u001b[0m \u001b[38;5;124;03m    DataFrame.iterrows : Iterate over DataFrame rows as (index, Series)\u001b[39;00m\n\u001b[1;32m   1039\u001b[0m \u001b[38;5;124;03m        pairs.\u001b[39;00m\n\u001b[1;32m   1040\u001b[0m \u001b[38;5;124;03m    DataFrame.items : Iterate over (column name, Series) pairs.\u001b[39;00m\n\u001b[1;32m   1041\u001b[0m \n\u001b[1;32m   1042\u001b[0m \u001b[38;5;124;03m    Notes\u001b[39;00m\n\u001b[1;32m   1043\u001b[0m \u001b[38;5;124;03m    -----\u001b[39;00m\n\u001b[1;32m   1044\u001b[0m \u001b[38;5;124;03m    The column names will be renamed to positional names if they are\u001b[39;00m\n\u001b[1;32m   1045\u001b[0m \u001b[38;5;124;03m    invalid Python identifiers, repeated, or start with an underscore.\u001b[39;00m\n\u001b[1;32m   1046\u001b[0m \u001b[38;5;124;03m    On python versions < 3.7 regular tuples are returned for DataFrames\u001b[39;00m\n\u001b[1;32m   1047\u001b[0m \u001b[38;5;124;03m    with a large number of columns (>254).\u001b[39;00m\n\u001b[1;32m   1048\u001b[0m \n\u001b[1;32m   1049\u001b[0m \u001b[38;5;124;03m    Examples\u001b[39;00m\n\u001b[1;32m   1050\u001b[0m \u001b[38;5;124;03m    --------\u001b[39;00m\n\u001b[1;32m   1051\u001b[0m \u001b[38;5;124;03m    >>> df = pd.DataFrame({'num_legs': [4, 2], 'num_wings': [0, 2]},\u001b[39;00m\n\u001b[1;32m   1052\u001b[0m \u001b[38;5;124;03m    ...                   index=['dog', 'hawk'])\u001b[39;00m\n\u001b[1;32m   1053\u001b[0m \u001b[38;5;124;03m    >>> df\u001b[39;00m\n\u001b[1;32m   1054\u001b[0m \u001b[38;5;124;03m          num_legs  num_wings\u001b[39;00m\n\u001b[1;32m   1055\u001b[0m \u001b[38;5;124;03m    dog          4          0\u001b[39;00m\n\u001b[1;32m   1056\u001b[0m \u001b[38;5;124;03m    hawk         2          2\u001b[39;00m\n\u001b[1;32m   1057\u001b[0m \u001b[38;5;124;03m    >>> for row in df.itertuples():\u001b[39;00m\n\u001b[1;32m   1058\u001b[0m \u001b[38;5;124;03m    ...     print(row)\u001b[39;00m\n\u001b[1;32m   1059\u001b[0m \u001b[38;5;124;03m    ...\u001b[39;00m\n\u001b[1;32m   1060\u001b[0m \u001b[38;5;124;03m    Pandas(Index='dog', num_legs=4, num_wings=0)\u001b[39;00m\n\u001b[1;32m   1061\u001b[0m \u001b[38;5;124;03m    Pandas(Index='hawk', num_legs=2, num_wings=2)\u001b[39;00m\n\u001b[1;32m   1062\u001b[0m \n\u001b[1;32m   1063\u001b[0m \u001b[38;5;124;03m    By setting the `index` parameter to False we can remove the index\u001b[39;00m\n\u001b[0;32m-> 1064\u001b[0m \u001b[38;5;124;03m    as the first element of the tuple:\u001b[39;00m\n\u001b[1;32m   1065\u001b[0m \n\u001b[1;32m   1066\u001b[0m \u001b[38;5;124;03m    >>> for row in df.itertuples(index=False):\u001b[39;00m\n\u001b[1;32m   1067\u001b[0m \u001b[38;5;124;03m    ...     print(row)\u001b[39;00m\n\u001b[1;32m   1068\u001b[0m \u001b[38;5;124;03m    ...\u001b[39;00m\n\u001b[1;32m   1069\u001b[0m \u001b[38;5;124;03m    Pandas(num_legs=4, num_wings=0)\u001b[39;00m\n\u001b[1;32m   1070\u001b[0m \u001b[38;5;124;03m    Pandas(num_legs=2, num_wings=2)\u001b[39;00m\n\u001b[1;32m   1071\u001b[0m \n\u001b[1;32m   1072\u001b[0m \u001b[38;5;124;03m    With the `name` parameter set we set a custom name for the yielded\u001b[39;00m\n\u001b[1;32m   1073\u001b[0m \u001b[38;5;124;03m    namedtuples:\u001b[39;00m\n\u001b[1;32m   1074\u001b[0m \n\u001b[1;32m   1075\u001b[0m \u001b[38;5;124;03m    >>> for row in df.itertuples(name='Animal'):\u001b[39;00m\n\u001b[1;32m   1076\u001b[0m \u001b[38;5;124;03m    ...     print(row)\u001b[39;00m\n\u001b[1;32m   1077\u001b[0m \u001b[38;5;124;03m    ...\u001b[39;00m\n\u001b[1;32m   1078\u001b[0m \u001b[38;5;124;03m    Animal(Index='dog', num_legs=4, num_wings=0)\u001b[39;00m\n\u001b[1;32m   1079\u001b[0m \u001b[38;5;124;03m    Animal(Index='hawk', num_legs=2, num_wings=2)\u001b[39;00m\n\u001b[1;32m   1080\u001b[0m \u001b[38;5;124;03m    \"\"\"\u001b[39;00m\n\u001b[1;32m   1081\u001b[0m     arrays \u001b[38;5;241m=\u001b[39m []\n\u001b[1;32m   1082\u001b[0m     fields \u001b[38;5;241m=\u001b[39m \u001b[38;5;28mlist\u001b[39m(\u001b[38;5;28mself\u001b[39m\u001b[38;5;241m.\u001b[39mcolumns)\n",
      "File \u001b[0;32m~/anaconda3/lib/python3.10/site-packages/pandas/core/frame.py:1245\u001b[0m, in \u001b[0;36mto_string\u001b[0;34m(self, buf, columns, col_space, header, index, na_rep, formatters, float_format, sparsify, index_names, justify, max_rows, max_cols, show_dimensions, decimal, line_width, min_rows, max_colwidth, encoding)\u001b[0m\n\u001b[1;32m   1230\u001b[0m \u001b[38;5;129m@classmethod\u001b[39m\n\u001b[1;32m   1231\u001b[0m \u001b[38;5;28;01mdef\u001b[39;00m \u001b[38;5;21mfrom_dict\u001b[39m(\u001b[38;5;28mcls\u001b[39m, data, orient\u001b[38;5;241m=\u001b[39m\u001b[38;5;124m\"\u001b[39m\u001b[38;5;124mcolumns\u001b[39m\u001b[38;5;124m\"\u001b[39m, dtype\u001b[38;5;241m=\u001b[39m\u001b[38;5;28;01mNone\u001b[39;00m, columns\u001b[38;5;241m=\u001b[39m\u001b[38;5;28;01mNone\u001b[39;00m) \u001b[38;5;241m-\u001b[39m\u001b[38;5;241m>\u001b[39m \u001b[38;5;124m\"\u001b[39m\u001b[38;5;124mDataFrame\u001b[39m\u001b[38;5;124m\"\u001b[39m:\n\u001b[1;32m   1232\u001b[0m     \u001b[38;5;124;03m\"\"\"\u001b[39;00m\n\u001b[1;32m   1233\u001b[0m \u001b[38;5;124;03m    Construct DataFrame from dict of array-like or dicts.\u001b[39;00m\n\u001b[1;32m   1234\u001b[0m \n\u001b[1;32m   1235\u001b[0m \u001b[38;5;124;03m    Creates DataFrame object from dictionary by columns or by index\u001b[39;00m\n\u001b[1;32m   1236\u001b[0m \u001b[38;5;124;03m    allowing dtype specification.\u001b[39;00m\n\u001b[1;32m   1237\u001b[0m \n\u001b[1;32m   1238\u001b[0m \u001b[38;5;124;03m    Parameters\u001b[39;00m\n\u001b[1;32m   1239\u001b[0m \u001b[38;5;124;03m    ----------\u001b[39;00m\n\u001b[1;32m   1240\u001b[0m \u001b[38;5;124;03m    data : dict\u001b[39;00m\n\u001b[1;32m   1241\u001b[0m \u001b[38;5;124;03m        Of the form {field : array-like} or {field : dict}.\u001b[39;00m\n\u001b[1;32m   1242\u001b[0m \u001b[38;5;124;03m    orient : {'columns', 'index'}, default 'columns'\u001b[39;00m\n\u001b[1;32m   1243\u001b[0m \u001b[38;5;124;03m        The \"orientation\" of the data. If the keys of the passed dict\u001b[39;00m\n\u001b[1;32m   1244\u001b[0m \u001b[38;5;124;03m        should be the columns of the resulting DataFrame, pass 'columns'\u001b[39;00m\n\u001b[0;32m-> 1245\u001b[0m \u001b[38;5;124;03m        (default). Otherwise if the keys should be rows, pass 'index'.\u001b[39;00m\n\u001b[1;32m   1246\u001b[0m \u001b[38;5;124;03m    dtype : dtype, default None\u001b[39;00m\n\u001b[1;32m   1247\u001b[0m \u001b[38;5;124;03m        Data type to force, otherwise infer.\u001b[39;00m\n\u001b[1;32m   1248\u001b[0m \u001b[38;5;124;03m    columns : list, default None\u001b[39;00m\n\u001b[1;32m   1249\u001b[0m \u001b[38;5;124;03m        Column labels to use when ``orient='index'``. Raises a ValueError\u001b[39;00m\n\u001b[1;32m   1250\u001b[0m \u001b[38;5;124;03m        if used with ``orient='columns'``.\u001b[39;00m\n\u001b[1;32m   1251\u001b[0m \n\u001b[1;32m   1252\u001b[0m \u001b[38;5;124;03m        .. versionadded:: 0.23.0\u001b[39;00m\n\u001b[1;32m   1253\u001b[0m \n\u001b[1;32m   1254\u001b[0m \u001b[38;5;124;03m    Returns\u001b[39;00m\n\u001b[1;32m   1255\u001b[0m \u001b[38;5;124;03m    -------\u001b[39;00m\n\u001b[1;32m   1256\u001b[0m \u001b[38;5;124;03m    DataFrame\u001b[39;00m\n\u001b[1;32m   1257\u001b[0m \n\u001b[1;32m   1258\u001b[0m \u001b[38;5;124;03m    See Also\u001b[39;00m\n\u001b[1;32m   1259\u001b[0m \u001b[38;5;124;03m    --------\u001b[39;00m\n\u001b[1;32m   1260\u001b[0m \u001b[38;5;124;03m    DataFrame.from_records : DataFrame from structured ndarray, sequence\u001b[39;00m\n\u001b[1;32m   1261\u001b[0m \u001b[38;5;124;03m        of tuples or dicts, or DataFrame.\u001b[39;00m\n\u001b[1;32m   1262\u001b[0m \u001b[38;5;124;03m    DataFrame : DataFrame object creation using constructor.\u001b[39;00m\n\u001b[1;32m   1263\u001b[0m \n\u001b[1;32m   1264\u001b[0m \u001b[38;5;124;03m    Examples\u001b[39;00m\n\u001b[1;32m   1265\u001b[0m \u001b[38;5;124;03m    --------\u001b[39;00m\n\u001b[1;32m   1266\u001b[0m \u001b[38;5;124;03m    By default the keys of the dict become the DataFrame columns:\u001b[39;00m\n\u001b[1;32m   1267\u001b[0m \n\u001b[1;32m   1268\u001b[0m \u001b[38;5;124;03m    >>> data = {'col_1': [3, 2, 1, 0], 'col_2': ['a', 'b', 'c', 'd']}\u001b[39;00m\n\u001b[1;32m   1269\u001b[0m \u001b[38;5;124;03m    >>> pd.DataFrame.from_dict(data)\u001b[39;00m\n\u001b[1;32m   1270\u001b[0m \u001b[38;5;124;03m       col_1 col_2\u001b[39;00m\n\u001b[1;32m   1271\u001b[0m \u001b[38;5;124;03m    0      3     a\u001b[39;00m\n\u001b[1;32m   1272\u001b[0m \u001b[38;5;124;03m    1      2     b\u001b[39;00m\n\u001b[1;32m   1273\u001b[0m \u001b[38;5;124;03m    2      1     c\u001b[39;00m\n\u001b[1;32m   1274\u001b[0m \u001b[38;5;124;03m    3      0     d\u001b[39;00m\n\u001b[1;32m   1275\u001b[0m \n\u001b[1;32m   1276\u001b[0m \u001b[38;5;124;03m    Specify ``orient='index'`` to create the DataFrame using dictionary\u001b[39;00m\n\u001b[1;32m   1277\u001b[0m \u001b[38;5;124;03m    keys as rows:\u001b[39;00m\n\u001b[1;32m   1278\u001b[0m \n\u001b[1;32m   1279\u001b[0m \u001b[38;5;124;03m    >>> data = {'row_1': [3, 2, 1, 0], 'row_2': ['a', 'b', 'c', 'd']}\u001b[39;00m\n\u001b[1;32m   1280\u001b[0m \u001b[38;5;124;03m    >>> pd.DataFrame.from_dict(data, orient='index')\u001b[39;00m\n\u001b[1;32m   1281\u001b[0m \u001b[38;5;124;03m           0  1  2  3\u001b[39;00m\n\u001b[1;32m   1282\u001b[0m \u001b[38;5;124;03m    row_1  3  2  1  0\u001b[39;00m\n\u001b[1;32m   1283\u001b[0m \u001b[38;5;124;03m    row_2  a  b  c  d\u001b[39;00m\n\u001b[1;32m   1284\u001b[0m \n\u001b[1;32m   1285\u001b[0m \u001b[38;5;124;03m    When using the 'index' orientation, the column names can be\u001b[39;00m\n\u001b[1;32m   1286\u001b[0m \u001b[38;5;124;03m    specified manually:\u001b[39;00m\n\u001b[1;32m   1287\u001b[0m \n\u001b[1;32m   1288\u001b[0m \u001b[38;5;124;03m    >>> pd.DataFrame.from_dict(data, orient='index',\u001b[39;00m\n\u001b[1;32m   1289\u001b[0m \u001b[38;5;124;03m    ...                        columns=['A', 'B', 'C', 'D'])\u001b[39;00m\n\u001b[1;32m   1290\u001b[0m \u001b[38;5;124;03m           A  B  C  D\u001b[39;00m\n\u001b[1;32m   1291\u001b[0m \u001b[38;5;124;03m    row_1  3  2  1  0\u001b[39;00m\n\u001b[1;32m   1292\u001b[0m \u001b[38;5;124;03m    row_2  a  b  c  d\u001b[39;00m\n\u001b[1;32m   1293\u001b[0m \u001b[38;5;124;03m    \"\"\"\u001b[39;00m\n\u001b[1;32m   1294\u001b[0m     index \u001b[38;5;241m=\u001b[39m \u001b[38;5;28;01mNone\u001b[39;00m\n\u001b[1;32m   1295\u001b[0m     orient \u001b[38;5;241m=\u001b[39m orient\u001b[38;5;241m.\u001b[39mlower()\n",
      "File \u001b[0;32m~/anaconda3/lib/python3.10/site-packages/pandas/io/formats/format.py:1133\u001b[0m, in \u001b[0;36mto_string\u001b[0;34m(self, buf, encoding, line_width)\u001b[0m\n\u001b[1;32m   1103\u001b[0m \u001b[38;5;28;01mdef\u001b[39;00m \u001b[38;5;21mformat_array\u001b[39m(\n\u001b[1;32m   1104\u001b[0m     values: Any,\n\u001b[1;32m   1105\u001b[0m     formatter: Optional[Callable],\n\u001b[0;32m   (...)\u001b[0m\n\u001b[1;32m   1113\u001b[0m     quoting: Optional[\u001b[38;5;28mint\u001b[39m] \u001b[38;5;241m=\u001b[39m \u001b[38;5;28;01mNone\u001b[39;00m,\n\u001b[1;32m   1114\u001b[0m ) \u001b[38;5;241m-\u001b[39m\u001b[38;5;241m>\u001b[39m List[\u001b[38;5;28mstr\u001b[39m]:\n\u001b[1;32m   1115\u001b[0m     \u001b[38;5;124;03m\"\"\"\u001b[39;00m\n\u001b[1;32m   1116\u001b[0m \u001b[38;5;124;03m    Format an array for printing.\u001b[39;00m\n\u001b[1;32m   1117\u001b[0m \n\u001b[1;32m   1118\u001b[0m \u001b[38;5;124;03m    Parameters\u001b[39;00m\n\u001b[1;32m   1119\u001b[0m \u001b[38;5;124;03m    ----------\u001b[39;00m\n\u001b[1;32m   1120\u001b[0m \u001b[38;5;124;03m    values\u001b[39;00m\n\u001b[1;32m   1121\u001b[0m \u001b[38;5;124;03m    formatter\u001b[39;00m\n\u001b[1;32m   1122\u001b[0m \u001b[38;5;124;03m    float_format\u001b[39;00m\n\u001b[1;32m   1123\u001b[0m \u001b[38;5;124;03m    na_rep\u001b[39;00m\n\u001b[1;32m   1124\u001b[0m \u001b[38;5;124;03m    digits\u001b[39;00m\n\u001b[1;32m   1125\u001b[0m \u001b[38;5;124;03m    space\u001b[39;00m\n\u001b[1;32m   1126\u001b[0m \u001b[38;5;124;03m    justify\u001b[39;00m\n\u001b[1;32m   1127\u001b[0m \u001b[38;5;124;03m    decimal\u001b[39;00m\n\u001b[1;32m   1128\u001b[0m \u001b[38;5;124;03m    leading_space : bool, optional\u001b[39;00m\n\u001b[1;32m   1129\u001b[0m \u001b[38;5;124;03m        Whether the array should be formatted with a leading space.\u001b[39;00m\n\u001b[1;32m   1130\u001b[0m \u001b[38;5;124;03m        When an array as a column of a Series or DataFrame, we do want\u001b[39;00m\n\u001b[1;32m   1131\u001b[0m \u001b[38;5;124;03m        the leading space to pad between columns.\u001b[39;00m\n\u001b[1;32m   1132\u001b[0m \n\u001b[0;32m-> 1133\u001b[0m \u001b[38;5;124;03m        When formatting an Index subclass\u001b[39;00m\n\u001b[1;32m   1134\u001b[0m \u001b[38;5;124;03m        (e.g. IntervalIndex._format_native_types), we don't want the\u001b[39;00m\n\u001b[1;32m   1135\u001b[0m \u001b[38;5;124;03m        leading space since it should be left-aligned.\u001b[39;00m\n\u001b[1;32m   1136\u001b[0m \n\u001b[1;32m   1137\u001b[0m \u001b[38;5;124;03m    Returns\u001b[39;00m\n\u001b[1;32m   1138\u001b[0m \u001b[38;5;124;03m    -------\u001b[39;00m\n\u001b[1;32m   1139\u001b[0m \u001b[38;5;124;03m    List[str]\u001b[39;00m\n\u001b[1;32m   1140\u001b[0m \u001b[38;5;124;03m    \"\"\"\u001b[39;00m\n\u001b[1;32m   1141\u001b[0m     fmt_klass: Type[GenericArrayFormatter]\n\u001b[1;32m   1142\u001b[0m     \u001b[38;5;28;01mif\u001b[39;00m is_datetime64_dtype(values\u001b[38;5;241m.\u001b[39mdtype):\n",
      "\u001b[0;31mModuleNotFoundError\u001b[0m: No module named 'pandas.io.formats.string'"
     ]
    },
    {
     "ename": "ImportError",
     "evalue": "cannot import name 'TableFormatter' from 'pandas.io.formats.format' (/Users/tessavinson/anaconda3/lib/python3.10/site-packages/pandas/io/formats/format.py)",
     "output_type": "error",
     "traceback": [
      "\u001b[0;31m---------------------------------------------------------------------------\u001b[0m",
      "\u001b[0;31mImportError\u001b[0m                               Traceback (most recent call last)",
      "File \u001b[0;32m~/anaconda3/lib/python3.10/site-packages/IPython/core/formatters.py:342\u001b[0m, in \u001b[0;36mBaseFormatter.__call__\u001b[0;34m(self, obj)\u001b[0m\n\u001b[1;32m    340\u001b[0m     method \u001b[38;5;241m=\u001b[39m get_real_method(obj, \u001b[38;5;28mself\u001b[39m\u001b[38;5;241m.\u001b[39mprint_method)\n\u001b[1;32m    341\u001b[0m     \u001b[38;5;28;01mif\u001b[39;00m method \u001b[38;5;129;01mis\u001b[39;00m \u001b[38;5;129;01mnot\u001b[39;00m \u001b[38;5;28;01mNone\u001b[39;00m:\n\u001b[0;32m--> 342\u001b[0m         \u001b[38;5;28;01mreturn\u001b[39;00m \u001b[43mmethod\u001b[49m\u001b[43m(\u001b[49m\u001b[43m)\u001b[49m\n\u001b[1;32m    343\u001b[0m     \u001b[38;5;28;01mreturn\u001b[39;00m \u001b[38;5;28;01mNone\u001b[39;00m\n\u001b[1;32m    344\u001b[0m \u001b[38;5;28;01melse\u001b[39;00m:\n",
      "File \u001b[0;32m~/anaconda3/lib/python3.10/site-packages/pandas/core/frame.py:1106\u001b[0m, in \u001b[0;36m_repr_html_\u001b[0;34m(self)\u001b[0m\n\u001b[1;32m   1105\u001b[0m \u001b[38;5;28;01mdef\u001b[39;00m \u001b[38;5;21mdot\u001b[39m(\u001b[38;5;28mself\u001b[39m, other):\n\u001b[0;32m-> 1106\u001b[0m     \u001b[38;5;124;03m\"\"\"\u001b[39;00m\n\u001b[1;32m   1107\u001b[0m \u001b[38;5;124;03m    Compute the matrix multiplication between the DataFrame and other.\u001b[39;00m\n\u001b[1;32m   1108\u001b[0m \n\u001b[1;32m   1109\u001b[0m \u001b[38;5;124;03m    This method computes the matrix product between the DataFrame and the\u001b[39;00m\n\u001b[1;32m   1110\u001b[0m \u001b[38;5;124;03m    values of an other Series, DataFrame or a numpy array.\u001b[39;00m\n\u001b[1;32m   1111\u001b[0m \n\u001b[1;32m   1112\u001b[0m \u001b[38;5;124;03m    It can also be called using ``self @ other`` in Python >= 3.5.\u001b[39;00m\n\u001b[1;32m   1113\u001b[0m \n\u001b[1;32m   1114\u001b[0m \u001b[38;5;124;03m    Parameters\u001b[39;00m\n\u001b[1;32m   1115\u001b[0m \u001b[38;5;124;03m    ----------\u001b[39;00m\n\u001b[1;32m   1116\u001b[0m \u001b[38;5;124;03m    other : Series, DataFrame or array-like\u001b[39;00m\n\u001b[1;32m   1117\u001b[0m \u001b[38;5;124;03m        The other object to compute the matrix product with.\u001b[39;00m\n\u001b[1;32m   1118\u001b[0m \n\u001b[1;32m   1119\u001b[0m \u001b[38;5;124;03m    Returns\u001b[39;00m\n\u001b[1;32m   1120\u001b[0m \u001b[38;5;124;03m    -------\u001b[39;00m\n\u001b[1;32m   1121\u001b[0m \u001b[38;5;124;03m    Series or DataFrame\u001b[39;00m\n\u001b[1;32m   1122\u001b[0m \u001b[38;5;124;03m        If other is a Series, return the matrix product between self and\u001b[39;00m\n\u001b[1;32m   1123\u001b[0m \u001b[38;5;124;03m        other as a Series. If other is a DataFrame or a numpy.array, return\u001b[39;00m\n\u001b[1;32m   1124\u001b[0m \u001b[38;5;124;03m        the matrix product of self and other in a DataFrame of a np.array.\u001b[39;00m\n\u001b[1;32m   1125\u001b[0m \n\u001b[1;32m   1126\u001b[0m \u001b[38;5;124;03m    See Also\u001b[39;00m\n\u001b[1;32m   1127\u001b[0m \u001b[38;5;124;03m    --------\u001b[39;00m\n\u001b[1;32m   1128\u001b[0m \u001b[38;5;124;03m    Series.dot: Similar method for Series.\u001b[39;00m\n\u001b[1;32m   1129\u001b[0m \n\u001b[1;32m   1130\u001b[0m \u001b[38;5;124;03m    Notes\u001b[39;00m\n\u001b[1;32m   1131\u001b[0m \u001b[38;5;124;03m    -----\u001b[39;00m\n\u001b[1;32m   1132\u001b[0m \u001b[38;5;124;03m    The dimensions of DataFrame and other must be compatible in order to\u001b[39;00m\n\u001b[1;32m   1133\u001b[0m \u001b[38;5;124;03m    compute the matrix multiplication. In addition, the column names of\u001b[39;00m\n\u001b[1;32m   1134\u001b[0m \u001b[38;5;124;03m    DataFrame and the index of other must contain the same values, as they\u001b[39;00m\n\u001b[1;32m   1135\u001b[0m \u001b[38;5;124;03m    will be aligned prior to the multiplication.\u001b[39;00m\n\u001b[1;32m   1136\u001b[0m \n\u001b[1;32m   1137\u001b[0m \u001b[38;5;124;03m    The dot method for Series computes the inner product, instead of the\u001b[39;00m\n\u001b[1;32m   1138\u001b[0m \u001b[38;5;124;03m    matrix product here.\u001b[39;00m\n\u001b[1;32m   1139\u001b[0m \n\u001b[1;32m   1140\u001b[0m \u001b[38;5;124;03m    Examples\u001b[39;00m\n\u001b[1;32m   1141\u001b[0m \u001b[38;5;124;03m    --------\u001b[39;00m\n\u001b[1;32m   1142\u001b[0m \u001b[38;5;124;03m    Here we multiply a DataFrame with a Series.\u001b[39;00m\n\u001b[1;32m   1143\u001b[0m \n\u001b[1;32m   1144\u001b[0m \u001b[38;5;124;03m    >>> df = pd.DataFrame([[0, 1, -2, -1], [1, 1, 1, 1]])\u001b[39;00m\n\u001b[1;32m   1145\u001b[0m \u001b[38;5;124;03m    >>> s = pd.Series([1, 1, 2, 1])\u001b[39;00m\n\u001b[1;32m   1146\u001b[0m \u001b[38;5;124;03m    >>> df.dot(s)\u001b[39;00m\n\u001b[1;32m   1147\u001b[0m \u001b[38;5;124;03m    0    -4\u001b[39;00m\n\u001b[1;32m   1148\u001b[0m \u001b[38;5;124;03m    1     5\u001b[39;00m\n\u001b[1;32m   1149\u001b[0m \u001b[38;5;124;03m    dtype: int64\u001b[39;00m\n\u001b[1;32m   1150\u001b[0m \n\u001b[1;32m   1151\u001b[0m \u001b[38;5;124;03m    Here we multiply a DataFrame with another DataFrame.\u001b[39;00m\n\u001b[1;32m   1152\u001b[0m \n\u001b[1;32m   1153\u001b[0m \u001b[38;5;124;03m    >>> other = pd.DataFrame([[0, 1], [1, 2], [-1, -1], [2, 0]])\u001b[39;00m\n\u001b[1;32m   1154\u001b[0m \u001b[38;5;124;03m    >>> df.dot(other)\u001b[39;00m\n\u001b[1;32m   1155\u001b[0m \u001b[38;5;124;03m        0   1\u001b[39;00m\n\u001b[1;32m   1156\u001b[0m \u001b[38;5;124;03m    0   1   4\u001b[39;00m\n\u001b[1;32m   1157\u001b[0m \u001b[38;5;124;03m    1   2   2\u001b[39;00m\n\u001b[1;32m   1158\u001b[0m \n\u001b[1;32m   1159\u001b[0m \u001b[38;5;124;03m    Note that the dot method give the same result as @\u001b[39;00m\n\u001b[1;32m   1160\u001b[0m \n\u001b[1;32m   1161\u001b[0m \u001b[38;5;124;03m    >>> df @ other\u001b[39;00m\n\u001b[1;32m   1162\u001b[0m \u001b[38;5;124;03m        0   1\u001b[39;00m\n\u001b[1;32m   1163\u001b[0m \u001b[38;5;124;03m    0   1   4\u001b[39;00m\n\u001b[1;32m   1164\u001b[0m \u001b[38;5;124;03m    1   2   2\u001b[39;00m\n\u001b[1;32m   1165\u001b[0m \n\u001b[1;32m   1166\u001b[0m \u001b[38;5;124;03m    The dot method works also if other is an np.array.\u001b[39;00m\n\u001b[1;32m   1167\u001b[0m \n\u001b[1;32m   1168\u001b[0m \u001b[38;5;124;03m    >>> arr = np.array([[0, 1], [1, 2], [-1, -1], [2, 0]])\u001b[39;00m\n\u001b[1;32m   1169\u001b[0m \u001b[38;5;124;03m    >>> df.dot(arr)\u001b[39;00m\n\u001b[1;32m   1170\u001b[0m \u001b[38;5;124;03m        0   1\u001b[39;00m\n\u001b[1;32m   1171\u001b[0m \u001b[38;5;124;03m    0   1   4\u001b[39;00m\n\u001b[1;32m   1172\u001b[0m \u001b[38;5;124;03m    1   2   2\u001b[39;00m\n\u001b[1;32m   1173\u001b[0m \n\u001b[1;32m   1174\u001b[0m \u001b[38;5;124;03m    Note how shuffling of the objects does not change the result.\u001b[39;00m\n\u001b[1;32m   1175\u001b[0m \n\u001b[1;32m   1176\u001b[0m \u001b[38;5;124;03m    >>> s2 = s.reindex([1, 0, 2, 3])\u001b[39;00m\n\u001b[1;32m   1177\u001b[0m \u001b[38;5;124;03m    >>> df.dot(s2)\u001b[39;00m\n\u001b[1;32m   1178\u001b[0m \u001b[38;5;124;03m    0    -4\u001b[39;00m\n\u001b[1;32m   1179\u001b[0m \u001b[38;5;124;03m    1     5\u001b[39;00m\n\u001b[1;32m   1180\u001b[0m \u001b[38;5;124;03m    dtype: int64\u001b[39;00m\n\u001b[1;32m   1181\u001b[0m \u001b[38;5;124;03m    \"\"\"\u001b[39;00m\n\u001b[1;32m   1182\u001b[0m     \u001b[38;5;28;01mif\u001b[39;00m \u001b[38;5;28misinstance\u001b[39m(other, (Series, DataFrame)):\n\u001b[1;32m   1183\u001b[0m         common \u001b[38;5;241m=\u001b[39m \u001b[38;5;28mself\u001b[39m\u001b[38;5;241m.\u001b[39mcolumns\u001b[38;5;241m.\u001b[39munion(other\u001b[38;5;241m.\u001b[39mindex)\n",
      "File \u001b[0;32m~/anaconda3/lib/python3.10/site-packages/pandas/io/formats/format.py:1096\u001b[0m, in \u001b[0;36mto_html\u001b[0;34m(self, buf, encoding, classes, notebook, border, table_id, render_links)\u001b[0m\n\u001b[1;32m   1094\u001b[0m \u001b[38;5;28;01melse\u001b[39;00m:\n\u001b[1;32m   1095\u001b[0m     names\u001b[38;5;241m.\u001b[39mappend(\u001b[38;5;124m\"\u001b[39m\u001b[38;5;124m\"\u001b[39m \u001b[38;5;28;01mif\u001b[39;00m columns\u001b[38;5;241m.\u001b[39mname \u001b[38;5;129;01mis\u001b[39;00m \u001b[38;5;28;01mNone\u001b[39;00m \u001b[38;5;28;01melse\u001b[39;00m columns\u001b[38;5;241m.\u001b[39mname)\n\u001b[0;32m-> 1096\u001b[0m \u001b[38;5;28;01mreturn\u001b[39;00m names\n",
      "File \u001b[0;32m~/anaconda3/lib/python3.10/site-packages/pandas/io/formats/html.py:15\u001b[0m\n\u001b[1;32m     12\u001b[0m \u001b[38;5;28;01mfrom\u001b[39;00m \u001b[38;5;21;01mpandas\u001b[39;00m \u001b[38;5;28;01mimport\u001b[39;00m MultiIndex, option_context\n\u001b[1;32m     14\u001b[0m \u001b[38;5;28;01mfrom\u001b[39;00m \u001b[38;5;21;01mpandas\u001b[39;00m\u001b[38;5;21;01m.\u001b[39;00m\u001b[38;5;21;01mio\u001b[39;00m\u001b[38;5;21;01m.\u001b[39;00m\u001b[38;5;21;01mcommon\u001b[39;00m \u001b[38;5;28;01mimport\u001b[39;00m is_url\n\u001b[0;32m---> 15\u001b[0m \u001b[38;5;28;01mfrom\u001b[39;00m \u001b[38;5;21;01mpandas\u001b[39;00m\u001b[38;5;21;01m.\u001b[39;00m\u001b[38;5;21;01mio\u001b[39;00m\u001b[38;5;21;01m.\u001b[39;00m\u001b[38;5;21;01mformats\u001b[39;00m\u001b[38;5;21;01m.\u001b[39;00m\u001b[38;5;21;01mformat\u001b[39;00m \u001b[38;5;28;01mimport\u001b[39;00m (\n\u001b[1;32m     16\u001b[0m     DataFrameFormatter,\n\u001b[1;32m     17\u001b[0m     TableFormatter,\n\u001b[1;32m     18\u001b[0m     buffer_put_lines,\n\u001b[1;32m     19\u001b[0m     get_level_lengths,\n\u001b[1;32m     20\u001b[0m )\n\u001b[1;32m     21\u001b[0m \u001b[38;5;28;01mfrom\u001b[39;00m \u001b[38;5;21;01mpandas\u001b[39;00m\u001b[38;5;21;01m.\u001b[39;00m\u001b[38;5;21;01mio\u001b[39;00m\u001b[38;5;21;01m.\u001b[39;00m\u001b[38;5;21;01mformats\u001b[39;00m\u001b[38;5;21;01m.\u001b[39;00m\u001b[38;5;21;01mprinting\u001b[39;00m \u001b[38;5;28;01mimport\u001b[39;00m pprint_thing\n\u001b[1;32m     24\u001b[0m \u001b[38;5;28;01mclass\u001b[39;00m \u001b[38;5;21;01mHTMLFormatter\u001b[39;00m(TableFormatter):\n",
      "\u001b[0;31mImportError\u001b[0m: cannot import name 'TableFormatter' from 'pandas.io.formats.format' (/Users/tessavinson/anaconda3/lib/python3.10/site-packages/pandas/io/formats/format.py)"
     ]
    }
   ],
   "source": [
    "import pandas as pd\n",
    "df = pandas.read_csv('https://data.cityofchicago.org/resource/jcxq-k9xf.csv')\n",
    "df.to_sql(\"chicago_socioeconomic_data\", con, if_exists='replace', index=False,method=\"multi\") #parameters = name of the table, connection, if it exists already, replace it. index not included.\n"
   ]
  },
  {
   "cell_type": "markdown",
   "metadata": {},
   "source": [
    "##### You can verify that the table creation was successful by making a basic query like:\n"
   ]
  },
  {
   "cell_type": "code",
   "execution_count": 21,
   "metadata": {},
   "outputs": [
    {
     "name": "stdout",
     "output_type": "stream",
     "text": [
      " * sqlite:///socioeconomic.db\n",
      "Done.\n"
     ]
    },
    {
     "data": {
      "text/html": [
       "<table>\n",
       "    <thead>\n",
       "        <tr>\n",
       "            <th>ca</th>\n",
       "            <th>community_area_name</th>\n",
       "            <th>percent_of_housing_crowded</th>\n",
       "            <th>percent_households_below_poverty</th>\n",
       "            <th>percent_aged_16_unemployed</th>\n",
       "            <th>percent_aged_25_without_high_school_diploma</th>\n",
       "            <th>percent_aged_under_18_or_over_64</th>\n",
       "            <th>per_capita_income_</th>\n",
       "            <th>hardship_index</th>\n",
       "        </tr>\n",
       "    </thead>\n",
       "    <tbody>\n",
       "        <tr>\n",
       "            <td>1.0</td>\n",
       "            <td>Rogers Park</td>\n",
       "            <td>7.7</td>\n",
       "            <td>23.6</td>\n",
       "            <td>8.7</td>\n",
       "            <td>18.2</td>\n",
       "            <td>27.5</td>\n",
       "            <td>23939</td>\n",
       "            <td>39.0</td>\n",
       "        </tr>\n",
       "        <tr>\n",
       "            <td>2.0</td>\n",
       "            <td>West Ridge</td>\n",
       "            <td>7.8</td>\n",
       "            <td>17.2</td>\n",
       "            <td>8.8</td>\n",
       "            <td>20.8</td>\n",
       "            <td>38.5</td>\n",
       "            <td>23040</td>\n",
       "            <td>46.0</td>\n",
       "        </tr>\n",
       "        <tr>\n",
       "            <td>3.0</td>\n",
       "            <td>Uptown</td>\n",
       "            <td>3.8</td>\n",
       "            <td>24.0</td>\n",
       "            <td>8.9</td>\n",
       "            <td>11.8</td>\n",
       "            <td>22.2</td>\n",
       "            <td>35787</td>\n",
       "            <td>20.0</td>\n",
       "        </tr>\n",
       "        <tr>\n",
       "            <td>4.0</td>\n",
       "            <td>Lincoln Square</td>\n",
       "            <td>3.4</td>\n",
       "            <td>10.9</td>\n",
       "            <td>8.2</td>\n",
       "            <td>13.4</td>\n",
       "            <td>25.5</td>\n",
       "            <td>37524</td>\n",
       "            <td>17.0</td>\n",
       "        </tr>\n",
       "        <tr>\n",
       "            <td>5.0</td>\n",
       "            <td>North Center</td>\n",
       "            <td>0.3</td>\n",
       "            <td>7.5</td>\n",
       "            <td>5.2</td>\n",
       "            <td>4.5</td>\n",
       "            <td>26.2</td>\n",
       "            <td>57123</td>\n",
       "            <td>6.0</td>\n",
       "        </tr>\n",
       "    </tbody>\n",
       "</table>"
      ],
      "text/plain": [
       "[(1.0, 'Rogers Park', 7.7, 23.6, 8.7, 18.2, 27.5, 23939, 39.0),\n",
       " (2.0, 'West Ridge', 7.8, 17.2, 8.8, 20.8, 38.5, 23040, 46.0),\n",
       " (3.0, 'Uptown', 3.8, 24.0, 8.9, 11.8, 22.2, 35787, 20.0),\n",
       " (4.0, 'Lincoln Square', 3.4, 10.9, 8.2, 13.4, 25.5, 37524, 17.0),\n",
       " (5.0, 'North Center', 0.3, 7.5, 5.2, 4.5, 26.2, 57123, 6.0)]"
      ]
     },
     "execution_count": 21,
     "metadata": {},
     "output_type": "execute_result"
    }
   ],
   "source": [
    "%sql SELECT * FROM chicago_socioeconomic_data limit 5;\n",
    "\n"
   ]
  },
  {
   "cell_type": "markdown",
   "metadata": {},
   "source": [
    "## Problems\n",
    "\n",
    "### Problem 1\n",
    "\n",
    "##### How many rows are in the dataset?\n"
   ]
  },
  {
   "cell_type": "code",
   "execution_count": 22,
   "metadata": {},
   "outputs": [
    {
     "name": "stdout",
     "output_type": "stream",
     "text": [
      " * sqlite:///socioeconomic.db\n",
      "Done.\n"
     ]
    },
    {
     "data": {
      "text/html": [
       "<table>\n",
       "    <thead>\n",
       "        <tr>\n",
       "            <th>COUNT(*)</th>\n",
       "        </tr>\n",
       "    </thead>\n",
       "    <tbody>\n",
       "        <tr>\n",
       "            <td>78</td>\n",
       "        </tr>\n",
       "    </tbody>\n",
       "</table>"
      ],
      "text/plain": [
       "[(78,)]"
      ]
     },
     "execution_count": 22,
     "metadata": {},
     "output_type": "execute_result"
    }
   ],
   "source": [
    "%sql SELECT COUNT(*) FROM chicago_socioeconomic_data;\n",
    "\n",
    "#78"
   ]
  },
  {
   "cell_type": "markdown",
   "metadata": {},
   "source": [
    "<details><summary>Click here for the solution</summary>\n",
    "\n",
    "```python\n",
    "%sql SELECT COUNT(*) FROM chicago_socioeconomic_data;\n",
    "\n",
    "Correct answer: 78\n",
    "```\n",
    "\n",
    "</details>\n"
   ]
  },
  {
   "cell_type": "markdown",
   "metadata": {},
   "source": [
    "### Problem 2\n",
    "\n",
    "##### How many community areas in Chicago have a hardship index greater than 50.0?\n"
   ]
  },
  {
   "cell_type": "code",
   "execution_count": 25,
   "metadata": {},
   "outputs": [
    {
     "name": "stdout",
     "output_type": "stream",
     "text": [
      " * sqlite:///socioeconomic.db\n",
      "Done.\n"
     ]
    },
    {
     "data": {
      "text/html": [
       "<table>\n",
       "    <thead>\n",
       "        <tr>\n",
       "            <th>COUNT (DISTINCT ca)</th>\n",
       "        </tr>\n",
       "    </thead>\n",
       "    <tbody>\n",
       "        <tr>\n",
       "            <td>38</td>\n",
       "        </tr>\n",
       "    </tbody>\n",
       "</table>"
      ],
      "text/plain": [
       "[(38,)]"
      ]
     },
     "execution_count": 25,
     "metadata": {},
     "output_type": "execute_result"
    }
   ],
   "source": [
    "%sql SELECT COUNT (DISTINCT ca) FROM chicago_socioeconomic_data WHERE hardship_index > 50.0"
   ]
  },
  {
   "cell_type": "markdown",
   "metadata": {},
   "source": [
    "<details><summary>Click here for the solution</summary>\n",
    "\n",
    "```python\n",
    "%sql SELECT COUNT(*) FROM chicago_socioeconomic_data WHERE hardship_index > 50.0;\n",
    "\n",
    "Correct answer: 38\n",
    "```\n",
    "\n",
    "</details>\n"
   ]
  },
  {
   "cell_type": "markdown",
   "metadata": {},
   "source": [
    "### Problem 3\n",
    "\n",
    "##### What is the maximum value of hardship index in this dataset?\n"
   ]
  },
  {
   "cell_type": "code",
   "execution_count": 26,
   "metadata": {},
   "outputs": [
    {
     "name": "stdout",
     "output_type": "stream",
     "text": [
      " * sqlite:///socioeconomic.db\n",
      "Done.\n"
     ]
    },
    {
     "data": {
      "text/html": [
       "<table>\n",
       "    <thead>\n",
       "        <tr>\n",
       "            <th>max(hardship_index)</th>\n",
       "        </tr>\n",
       "    </thead>\n",
       "    <tbody>\n",
       "        <tr>\n",
       "            <td>98.0</td>\n",
       "        </tr>\n",
       "    </tbody>\n",
       "</table>"
      ],
      "text/plain": [
       "[(98.0,)]"
      ]
     },
     "execution_count": 26,
     "metadata": {},
     "output_type": "execute_result"
    }
   ],
   "source": [
    "%sql SELECT max(hardship_index) from chicago_socioeconomic_data;"
   ]
  },
  {
   "cell_type": "markdown",
   "metadata": {},
   "source": [
    "<details><summary>Click here for the solution</summary>\n",
    "\n",
    "```python\n",
    "%sql SELECT MAX(hardship_index) FROM chicago_socioeconomic_data;\n",
    "\n",
    "Correct answer: 98.0\n",
    "```\n",
    "\n",
    "</details>\n"
   ]
  },
  {
   "cell_type": "markdown",
   "metadata": {},
   "source": [
    "### Problem 4\n",
    "\n",
    "##### Which community area which has the highest hardship index?\n"
   ]
  },
  {
   "cell_type": "code",
   "execution_count": 29,
   "metadata": {},
   "outputs": [
    {
     "name": "stdout",
     "output_type": "stream",
     "text": [
      " * sqlite:///socioeconomic.db\n",
      "Done.\n"
     ]
    },
    {
     "data": {
      "text/html": [
       "<table>\n",
       "    <thead>\n",
       "        <tr>\n",
       "            <th>community_area_name</th>\n",
       "        </tr>\n",
       "    </thead>\n",
       "    <tbody>\n",
       "        <tr>\n",
       "            <td>Riverdale</td>\n",
       "        </tr>\n",
       "    </tbody>\n",
       "</table>"
      ],
      "text/plain": [
       "[('Riverdale',)]"
      ]
     },
     "execution_count": 29,
     "metadata": {},
     "output_type": "execute_result"
    }
   ],
   "source": [
    "%sql SELECT community_area_name FROM chicago_socioeconomic_data WHERE hardship_index = 98.0;"
   ]
  },
  {
   "cell_type": "markdown",
   "metadata": {},
   "source": [
    "<details><summary>Click here for the solution</summary>\n",
    "\n",
    "```python\n",
    "#We can use the result of the last query to as an input to this query:\n",
    "%sql SELECT community_area_name FROM chicago_socioeconomic_data where hardship_index=98.0\n",
    "\n",
    "#or another option:\n",
    "%sql SELECT community_area_name FROM chicago_socioeconomic_data ORDER BY hardship_index DESC NULLS LAST FETCH FIRST ROW ONLY;\n",
    "\n",
    "#or you can use a sub-query to determine the max hardship index:\n",
    "%sql select community_area_name from chicago_socioeconomic_data where hardship_index = ( select max(hardship_index) from chicago_socioeconomic_data ) \n",
    "\n",
    "Correct answer: 'Riverdale'\n",
    "    \n",
    "```\n",
    "\n",
    "</details>\n"
   ]
  },
  {
   "cell_type": "markdown",
   "metadata": {},
   "source": [
    "### Problem 5\n",
    "\n",
    "##### Which Chicago community areas have per-capita incomes greater than $60,000?\n"
   ]
  },
  {
   "cell_type": "code",
   "execution_count": 31,
   "metadata": {},
   "outputs": [
    {
     "name": "stdout",
     "output_type": "stream",
     "text": [
      " * sqlite:///socioeconomic.db\n",
      "Done.\n"
     ]
    },
    {
     "data": {
      "text/html": [
       "<table>\n",
       "    <thead>\n",
       "        <tr>\n",
       "            <th>community_area_name</th>\n",
       "        </tr>\n",
       "    </thead>\n",
       "    <tbody>\n",
       "        <tr>\n",
       "            <td>Lake View</td>\n",
       "        </tr>\n",
       "        <tr>\n",
       "            <td>Lincoln Park</td>\n",
       "        </tr>\n",
       "        <tr>\n",
       "            <td>Near North Side</td>\n",
       "        </tr>\n",
       "        <tr>\n",
       "            <td>Loop</td>\n",
       "        </tr>\n",
       "    </tbody>\n",
       "</table>"
      ],
      "text/plain": [
       "[('Lake View',), ('Lincoln Park',), ('Near North Side',), ('Loop',)]"
      ]
     },
     "execution_count": 31,
     "metadata": {},
     "output_type": "execute_result"
    }
   ],
   "source": [
    "%sql SELECT community_area_name from chicago_socioeconomic_data WHERE per_capita_income_ > 60000"
   ]
  },
  {
   "cell_type": "markdown",
   "metadata": {},
   "source": [
    "<details><summary>Click here for the solution</summary>\n",
    "\n",
    "```python\n",
    "%sql SELECT community_area_name FROM chicago_socioeconomic_data WHERE per_capita_income_ > 60000;\n",
    "\n",
    "Correct answer:Lake View,Lincoln Park, Near North Side, Loop\n",
    "    \n",
    "```\n",
    "\n",
    "</details>\n"
   ]
  },
  {
   "cell_type": "markdown",
   "metadata": {},
   "source": [
    "### Problem 6\n",
    "\n",
    "##### Create a scatter plot using the variables `per_capita_income_` and `hardship_index`. Explain the correlation between the two variables.\n"
   ]
  },
  {
   "cell_type": "code",
   "execution_count": 41,
   "metadata": {},
   "outputs": [
    {
     "name": "stdout",
     "output_type": "stream",
     "text": [
      " * sqlite:///socioeconomic.db\n",
      "Done.\n"
     ]
    },
    {
     "data": {
      "text/plain": [
       "<seaborn.axisgrid.JointGrid at 0x7fef32169c60>"
      ]
     },
     "execution_count": 41,
     "metadata": {},
     "output_type": "execute_result"
    },
    {
     "data": {
      "image/png": "[encoded data removed]",
      "text/plain": [
       "<Figure size 600x600 with 3 Axes>"
      ]
     },
     "metadata": {},
     "output_type": "display_data"
    }
   ],
   "source": [
    "import matplotlib.pyplot as plt\n",
    "#\"inline command below tells the IPython environment to draw the plots immediately after the current cell. \n",
    "%matplotlib inline \n",
    "import seaborn as sns \n",
    "\n",
    "\n",
    "income_v_hardship = %sql SELECT per_capita_income_, hardship_index from chicago_socioeconomic_data;\n",
    "plot = sns.jointplot(x = 'per_capita_income_', y = \"hardship_index\", data = income_v_hardship.DataFrame())\n",
    "plot\n"
   ]
  },
  {
   "cell_type": "markdown",
   "metadata": {},
   "source": [
    "<details><summary>Click here for the solution</summary>\n",
    "\n",
    "```python\n",
    "# if the import command gives ModuleNotFoundError: No module named 'seaborn'\n",
    "# then uncomment the following line i.e. delete the # to install the seaborn package \n",
    "# !pip install seaborn\n",
    "\n",
    "import matplotlib.pyplot as plt\n",
    "%matplotlib inline\n",
    "import seaborn as sns\n",
    "\n",
    "income_vs_hardship = %sql SELECT per_capita_income_, hardship_index FROM chicago_socioeconomic_data;\n",
    "plot = sns.jointplot(x='per_capita_income_',y='hardship_index', data=income_vs_hardship.DataFrame())\n",
    "\n",
    "Correct answer:You can see that as Per Capita Income rises as the Hardship Index decreases. We see that the points on the scatter plot are somewhat closer to a straight line in the negative direction, so we have a negative correlation between the two variables. \n",
    "    \n",
    "```\n",
    "\n",
    "</details>\n"
   ]
  },
  {
   "cell_type": "markdown",
   "metadata": {},
   "source": [
    "### Conclusion\n",
    "\n",
    "##### Now that you know how to do basic exploratory data analysis using SQL and python visualization tools, you can further explore this dataset to see how the variable `per_capita_income_` is related to `percent_households_below_poverty` and `percent_aged_16_unemployed`. Try to create interesting visualizations!\n"
   ]
  },
  {
   "cell_type": "markdown",
   "metadata": {},
   "source": [
    "## Summary\n",
    "\n",
    "##### In this lab you learned how to store a real world data set from the internet in a database (Db2 on IBM Cloud), gain insights into data using SQL queries. You also visualized a portion of the data in the database to see what story it tells.\n"
   ]
  },
  {
   "cell_type": "markdown",
   "metadata": {},
   "source": [
    "## Author\n",
    "\n",
    "<a href=\"https://www.linkedin.com/in/ravahuja/?utm_medium=Exinfluencer&utm_source=Exinfluencer&utm_content=000026UJ&utm_term=10006555&utm_id=NA-SkillsNetwork-Channel-SkillsNetworkCoursesIBMDeveloperSkillsNetworkDB0201ENSkillsNetwork20127838-2021-01-01\" target=\"_blank\">Rav Ahuja</a>\n",
    "\n",
    "## Change Log\n",
    "\n",
    "| Date (YYYY-MM-DD) | Version | Changed By    | Change Description                 |\n",
    "| ----------------- | ------- | ------------- | ---------------------------------- |\n",
    "| 2022-03-04        | 2.3     | Lakshmi Holla     | Made changes in markdown cells |\n",
    "| 2021-07-09        | 2.2     | Malika        | Updated connection string          |\n",
    "| 2021-05-06        | 2.1     | Malika Singla | Added libraries                    |\n",
    "| 2020-08-28        | 2.0     | Lavanya       | Moved lab to course repo in GitLab |\n",
    "\n",
    "<hr>\n",
    "\n",
    "## <h3 align=\"center\"> © IBM Corporation 2020. All rights reserved. <h3/>\n"
   ]
  }
 ],
 "metadata": {
  "kernelspec": {
   "display_name": "Python 3 (ipykernel)",
   "language": "python",
   "name": "python3"
  },
  "language_info": {
   "codemirror_mode": {
    "name": "ipython",
    "version": 3
   },
   "file_extension": ".py",
   "mimetype": "text/x-python",
   "name": "python",
   "nbconvert_exporter": "python",
   "pygments_lexer": "ipython3",
   "version": "3.10.9"
  }
 },
 "nbformat": 4,
 "nbformat_minor": 4
}
